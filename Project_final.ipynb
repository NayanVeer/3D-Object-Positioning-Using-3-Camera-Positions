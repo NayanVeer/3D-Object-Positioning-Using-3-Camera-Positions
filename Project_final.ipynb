{
  "nbformat": 4,
  "nbformat_minor": 0,
  "metadata": {
    "colab": {
      "provenance": []
    },
    "kernelspec": {
      "name": "python3",
      "display_name": "Python 3"
    },
    "language_info": {
      "name": "python"
    }
  },
  "cells": [
    {
      "cell_type": "code",
      "source": [
        "# Cell 1: Import necessary libraries\n",
        "import numpy as np\n",
        "import cv2\n",
        "import matplotlib.pyplot as plt\n",
        "from mpl_toolkits.mplot3d import Axes3D\n",
        "from scipy.optimize import least_squares\n",
        "from google.colab import files\n",
        "import os\n",
        "print(\"Libraries imported successfully!\")"
      ],
      "metadata": {
        "id": "MLQJlVm35oKr"
      },
      "execution_count": null,
      "outputs": []
    },
    {
      "cell_type": "code",
      "source": [
        "def upload_images():\n",
        "    \"\"\"Upload images through Colab interface.\"\"\"\n",
        "    print(\"Please select the camera images to upload\")\n",
        "    uploaded = files.upload()\n",
        "    image_paths = list(uploaded.keys())\n",
        "    print(f\"Uploaded {len(image_paths)} images: {image_paths}\")\n",
        "\n",
        "    # Display the uploaded images\n",
        "    plt.figure(figsize=(15, 5))\n",
        "    for i, path in enumerate(image_paths):\n",
        "        img = cv2.imread(path)\n",
        "        img_rgb = cv2.cvtColor(img, cv2.COLOR_BGR2RGB)\n",
        "        plt.subplot(1, len(image_paths), i+1)\n",
        "        plt.imshow(img_rgb)\n",
        "        plt.title(f\"Camera {i+1}\")\n",
        "        plt.axis('off')\n",
        "    plt.tight_layout()\n",
        "    plt.show()\n",
        "\n",
        "    return image_paths\n",
        "# Execute this cell to upload your images\n",
        "image_paths = upload_images()"
      ],
      "metadata": {
        "id": "6-SaQT8Eh9p2"
      },
      "execution_count": null,
      "outputs": []
    },
    {
      "cell_type": "code",
      "source": [
        "img = cv2.imread('img1.jpg')\n",
        "img_rgb = cv2.cvtColor(img, cv2.COLOR_BGR2RGB)\n",
        "\n",
        "x =172\n",
        "y =842\n",
        "\n",
        "\n",
        "cv2.circle(img_rgb, (x, y), radius=3, color=(255, 0, 0), thickness=2)  # Red circle\n",
        "\n",
        "plt.imshow(img_rgb)\n",
        "plt.title('Image with Marked Pixel')\n",
        "plt.show()"
      ],
      "metadata": {
        "id": "4VyqDzwvlYcp"
      },
      "execution_count": null,
      "outputs": []
    },
    {
      "cell_type": "code",
      "source": [
        "img = cv2.imread('img2.jpg')\n",
        "img_rgb = cv2.cvtColor(img, cv2.COLOR_BGR2RGB)\n",
        "\n",
        "x =225\n",
        "y =705\n",
        "\n",
        "cv2.circle(img_rgb, (x, y), radius=3, color=(255, 0, 0), thickness=2)  # Red circle\n",
        "\n",
        "plt.imshow(img_rgb)\n",
        "plt.title('Image with Marked Pixel')\n",
        "plt.show()"
      ],
      "metadata": {
        "id": "BRd5pzUslZ3r"
      },
      "execution_count": null,
      "outputs": []
    },
    {
      "cell_type": "code",
      "source": [
        "img = cv2.imread('img3.jpg')\n",
        "img_rgb = cv2.cvtColor(img, cv2.COLOR_BGR2RGB)\n",
        "\n",
        "x =185\n",
        "y =610\n",
        "\n",
        "cv2.circle(img_rgb, (x, y), radius=3, color=(255, 0, 0), thickness=2)  # Red circle\n",
        "\n",
        "plt.imshow(img_rgb)\n",
        "plt.title('Image with Marked Pixel')\n",
        "plt.show()"
      ],
      "metadata": {
        "id": "HPgA3mQmiolG"
      },
      "execution_count": null,
      "outputs": []
    },
    {
      "cell_type": "code",
      "source": [
        "gcp_pixels = [\n",
        "    np.array([[172,842],[540,880], [797, 596], [1312, 862], [1300,308],[812,559],], dtype=np.float32),\n",
        "    np.array([[225,705],[472,820], [812,648], [1190,1045],[1367,498],[838,618]], dtype=np.float32),\n",
        "    np.array([[185,610],[360,752], [760, 612], [ 1055, 1090],[1360,500], [797,585]], dtype=np.float32)\n",
        "]"
      ],
      "metadata": {
        "id": "tTqgXVV4lYBp"
      },
      "execution_count": null,
      "outputs": []
    },
    {
      "cell_type": "code",
      "source": [
        "pixels_cord = [\n",
        "    [(172, 842), (540, 880), (797, 596), (1312, 862), (1300, 308), (812, 559),(735,335)],\n",
        "    [(225, 705), (472, 820), (812, 648), (1190, 1045), (1367, 498), (838, 618),(805,400)],\n",
        "    [(185, 610), (360, 752), (760, 612), (1055, 1090), (1360, 500), (797, 585),(762,350)]\n",
        "]"
      ],
      "metadata": {
        "id": "a9XBPlTnZTmc"
      },
      "execution_count": null,
      "outputs": []
    },
    {
      "source": [
        "image_paths = ['img1.jpg', 'img2.jpg', 'img3.jpg']  # image paths\n",
        "\n",
        "for i, image_path in enumerate(image_paths):\n",
        "    img = cv2.imread(image_path)\n",
        "    img_rgb = cv2.cvtColor(img, cv2.COLOR_BGR2RGB)\n",
        "\n",
        "    cv2.circle(img_rgb, tuple(gcp_pixels[i][0]), radius=5, color=(255, 0, 0), thickness=5)  # Red circle for 1st GCP\n",
        "    cv2.drawMarker(img_rgb, tuple(gcp_pixels[i][1]), markerType=cv2.MARKER_CROSS, markerSize=20, color=(255, 0, 0), thickness=5)  # Blue cross for 2nd GCP\n",
        "    cv2.drawMarker(img_rgb, tuple(gcp_pixels[i][2]), markerType=cv2.MARKER_STAR, markerSize=20, color=(255, 0, 0), thickness=5)  # Green star for 3rd GCP\n",
        "    cv2.drawMarker(img_rgb, tuple(gcp_pixels[i][3]), markerType=cv2.MARKER_STAR, markerSize=20, color=(0,255, 0), thickness=5)  # Green star for 3rd GCP\n",
        "    cv2.drawMarker(img_rgb, tuple(gcp_pixels[i][4]), markerType=cv2.MARKER_CROSS, markerSize=20, color=(255, 0, 0), thickness=5)  # Green star for 3rd GCP\n",
        "    cv2.drawMarker(img_rgb, tuple(gcp_pixels[i][5]), markerType=cv2.MARKER_STAR, markerSize=20, color=(0,0,255), thickness=5)  # Green star for 3rd GCP\n",
        "    plt.imshow(img_rgb)\n",
        "    plt.title(f'Image {i+1} with Marked GCPs')\n",
        "    plt.show()"
      ],
      "cell_type": "code",
      "metadata": {
        "id": "5CbmJaePjtcF"
      },
      "execution_count": null,
      "outputs": []
    },
    {
      "cell_type": "markdown",
      "source": [
        "TRIALS\n"
      ],
      "metadata": {
        "id": "63iI0UwrpAW4"
      }
    },
    {
      "cell_type": "code",
      "source": [
        "image_paths = ['img1.jpg', 'img2.jpg', 'img3.jpg']  # image paths\n",
        "\n",
        "for i, image_path in enumerate(image_paths):\n",
        "    img = cv2.imread(image_path)\n",
        "    img_rgb = cv2.cvtColor(img, cv2.COLOR_BGR2RGB)\n",
        "\n",
        "    # Accessing coordinates from pixels_cord\n",
        "    cv2.circle(img_rgb, pixels_cord[i][0], radius=5, color=(255, 0, 0), thickness=5)\n",
        "    cv2.drawMarker(img_rgb, pixels_cord[i][1], markerType=cv2.MARKER_CROSS, markerSize=20, color=(255, 0, 0), thickness=5)\n",
        "    cv2.drawMarker(img_rgb, pixels_cord[i][2], markerType=cv2.MARKER_DIAMOND, markerSize=20, color=(255, 0, 0), thickness=5)\n",
        "    cv2.drawMarker(img_rgb, pixels_cord[i][3], markerType=cv2.MARKER_STAR, markerSize=20, color=(0,255, 0), thickness=5)\n",
        "    cv2.drawMarker(img_rgb, pixels_cord[i][4], markerType=cv2.MARKER_TILTED_CROSS, markerSize=20, color=(255, 0, 0), thickness=5)\n",
        "    cv2.drawMarker(img_rgb, pixels_cord[i][5], markerType=cv2.MARKER_SQUARE, markerSize=20, color=(0,0,255), thickness=5)\n",
        "    cv2.drawMarker(img_rgb, pixels_cord[i][6], markerType=cv2.MARKER_TRIANGLE_UP, markerSize=20, color=(0,0,255), thickness=5)\n",
        "\n",
        "    plt.imshow(img_rgb)\n",
        "    plt.title(f'Image {i+1} with Marked GCPs')\n",
        "    plt.show()"
      ],
      "metadata": {
        "id": "Uy9jJsoHo_YQ"
      },
      "execution_count": null,
      "outputs": []
    },
    {
      "cell_type": "markdown",
      "source": [
        "Case 2- For Yellow Marker"
      ],
      "metadata": {
        "id": "lQKn9DHUy5bC"
      }
    },
    {
      "cell_type": "code",
      "source": [
        "# === Step 1: Define Camera Intrinsics (IOPs) ===\n",
        "fx = 1244.70565\n",
        "fy = 1248.37115\n",
        "cx = 807.97299\n",
        "cy = 580.70836\n",
        "\n",
        "camera_matrix = np.array([[fx,  0, cx],\n",
        "                          [ 0, fy, cy],\n",
        "                          [ 0,  0,  1]], dtype=np.float64)\n",
        "dist_coeffs = np.array([[ 0.06913,  0.06625, -0.00872,  0.00079, -0.65963]])"
      ],
      "metadata": {
        "id": "pEMBIUaewJnO"
      },
      "execution_count": null,
      "outputs": []
    },
    {
      "cell_type": "code",
      "source": [
        "gcp_3d = np.array([\n",
        "   [20,30,1],\n",
        "   [37,21,5],\n",
        "   [55.7,35.3,0],\n",
        "   [75,10,1],\n",
        "   [87.7,36.4,13.5],\n",
        "   [57.7,37.9,0]\n",
        "], dtype=np.float32)\n",
        "\n",
        "# 2D image coordinates of GCPs for 3 images (in pixels)\n",
        "gcp_2d_imgs = [\n",
        "    np.array([[172,842],[540,880], [797, 596], [1312, 862], [1300,308],[812,559],], dtype=np.float32),\n",
        "    np.array([[225,705],[472,820], [812,648], [1190,1045],[1367,498],[838,618]], dtype=np.float32),\n",
        "    np.array([[185,610],[360,752], [760, 612], [ 1055, 1090],[1360,500], [797,585]], dtype=np.float32)\n",
        "]"
      ],
      "metadata": {
        "id": "yjEofZEWwMs-"
      },
      "execution_count": null,
      "outputs": []
    },
    {
      "cell_type": "code",
      "source": [
        "object_pixels = [\n",
        "    np.array([[735], [335]], dtype=np.float64),  # Image 1\n",
        "    np.array([[805], [400]], dtype=np.float64),  # Image 2\n",
        "    np.array([[762], [350]], dtype=np.float64)   # Image 3\n",
        "]"
      ],
      "metadata": {
        "id": "qDnSdNF5cVqP"
      },
      "execution_count": null,
      "outputs": []
    },
    {
      "cell_type": "code",
      "source": [
        "for i, image_path in enumerate(image_paths):\n",
        "    # Load and convert image\n",
        "    img = cv2.imread(image_path)\n",
        "    img_rgb = cv2.cvtColor(img, cv2.COLOR_BGR2RGB)\n",
        "\n",
        "    # Visualize GCPs (green cross marks)\n",
        "    for gcp in gcp_2d_imgs[i]:\n",
        "        gcp_int = tuple(map(int, gcp))\n",
        "        cv2.drawMarker(img_rgb, gcp_int, color=(0, 0, 255), markerType=cv2.MARKER_CROSS, markerSize=10, thickness=5)\n",
        "\n",
        "    # Visualize object pixels (red circles)\n",
        "    x = int(object_pixels[i][0][0])\n",
        "    y = int(object_pixels[i][1][0])\n",
        "    cv2.circle(img_rgb, (x, y), radius=5, color=(255, 0, 0), thickness=5)  # Red\n",
        "\n",
        "    # Display image\n",
        "    plt.imshow(img_rgb)\n",
        "    plt.title(f'Image {i + 1} with GCPs (Blue Crosses) and Object (Red Circle)')\n",
        "    plt.show()"
      ],
      "metadata": {
        "id": "zi9yHnCzcRPv"
      },
      "execution_count": null,
      "outputs": []
    },
    {
      "cell_type": "code",
      "source": [
        "def reprojection_error(params, object_points, image_points, camera_matrix, dist_coeffs):\n",
        "    rvec = params[:3].reshape(3, 1)\n",
        "    tvec = params[3:].reshape(3, 1)\n",
        "    projected_points, _ = cv2.projectPoints(object_points, rvec, tvec, camera_matrix, dist_coeffs)\n",
        "    error = (projected_points.squeeze() - image_points).ravel()\n",
        "    return error\n"
      ],
      "metadata": {
        "id": "BQ5shpyCwYYH"
      },
      "execution_count": null,
      "outputs": []
    },
    {
      "cell_type": "code",
      "source": [
        "# === Optimization and Output ===\n",
        "optimized_params = []\n",
        "camera_positions = []\n",
        "\n",
        "for idx, gcp_2d in enumerate(gcp_2d_imgs):\n",
        "    # Initial solvePnP estimation\n",
        "    _, rvec_init, tvec_init = cv2.solvePnP(gcp_3d, gcp_2d, camera_matrix, dist_coeffs)\n",
        "    initial_params = np.hstack((rvec_init.ravel(), tvec_init.ravel()))\n",
        "\n",
        "    print(f\"\\n--- Optimizing Image {idx+1} EOPs ---\")\n",
        "\n",
        "    # Perform least squares optimization\n",
        "    result = least_squares(\n",
        "        reprojection_error,\n",
        "        initial_params,\n",
        "        verbose=2,\n",
        "        args=(gcp_3d, gcp_2d, camera_matrix, dist_coeffs),\n",
        "        max_nfev=1000,  # Set max iterations here\n",
        "        xtol=1e-30\n",
        "    )\n",
        "\n",
        "    rvec_opt = result.x[:3].reshape(3, 1)\n",
        "    tvec_opt = result.x[3:].reshape(3, 1)\n",
        "    optimized_params.append((rvec_opt, tvec_opt))\n",
        "\n",
        "    R, _ = cv2.Rodrigues(rvec_opt)\n",
        "    camera_position = -R.T @ tvec_opt\n",
        "    camera_positions.append(camera_position.ravel())\n"
      ],
      "metadata": {
        "id": "K9261kJKwf1F"
      },
      "execution_count": null,
      "outputs": []
    },
    {
      "source": [
        "rotation_matrices = []\n",
        "for rvec, tvec in optimized_params:\n",
        "    R, _ = cv2.Rodrigues(rvec)  # Convert rotation vector to matrix\n",
        "    rotation_matrices.append(R)"
      ],
      "cell_type": "code",
      "metadata": {
        "id": "m3VlWrW2sF_S"
      },
      "execution_count": null,
      "outputs": []
    },
    {
      "source": [
        "import math\n",
        "\n",
        "euler_angles = []  # To store (omega, phi, kappa) for each camera\n",
        "\n",
        "for R in rotation_matrices:\n",
        "    phi = math.asin(R[2, 0])  # Omega (rotation around X-axis)\n",
        "    kappa = math.atan2(R[2, 1] / math.cos(phi), R[2, 2] / math.cos(phi))  # Kappa (rotation around Z-axis)\n",
        "    omega = math.atan2(R[1, 0] / math.cos(phi), R[0, 0] / math.cos(phi))  # Phi (rotation around Y-axis)\n",
        "\n",
        "    euler_angles.append((math.degrees(phi), math.degrees(kappa), math.degrees(omega)))  # In degrees\n",
        "\n",
        "# Print in the desired format\n",
        "for i, angles in enumerate(euler_angles):\n",
        "    print(f\"(ω, φ, κ) = [{angles[0]:.2f}, {angles[1]:.2f}, {angles[2]:.2f}]\")"
      ],
      "cell_type": "code",
      "metadata": {
        "id": "7U4RiuJrwXij"
      },
      "execution_count": null,
      "outputs": []
    },
    {
      "cell_type": "code",
      "source": [
        "proj_matrices = []\n",
        "for rvec, tvec in optimized_params:\n",
        "    R, _ = cv2.Rodrigues(rvec)\n",
        "    Rt = np.hstack((R, tvec))\n",
        "    P = camera_matrix @ Rt\n",
        "    proj_matrices.append(P)\n",
        "# reprojection error\n",
        "for idx, (rvec, tvec) in enumerate(optimized_params):\n",
        "    projected_points, _ = cv2.projectPoints(gcp_3d, rvec, tvec, camera_matrix, dist_coeffs)\n",
        "\n",
        "    # Calculate reprojection error for each GCP\n",
        "    reprojection_errors = np.linalg.norm(projected_points.squeeze() - gcp_2d_imgs[idx], axis=1)\n",
        "\n",
        "    # Print the errors\n",
        "    print(f\"\\nReprojection Errors for Image {idx + 1}:\")\n",
        "    for i, error in enumerate(reprojection_errors):\n",
        "        print(f\"  GCP {i + 1}: {error:.2f} pixels\")\n",
        "\n",
        "    # Calculate and print the average reprojection error for the image\n",
        "    avg_error = np.mean(reprojection_errors)\n",
        "    print(f\"  Average Reprojection Error: {avg_error:.2f} pixels\")"
      ],
      "metadata": {
        "id": "7VzDRbsDwofN"
      },
      "execution_count": null,
      "outputs": []
    },
    {
      "cell_type": "code",
      "source": [
        "# Triangulate between all pairs of images\n",
        "point_4d_12 = cv2.triangulatePoints(proj_matrices[0], proj_matrices[1], object_pixels[0], object_pixels[1])\n",
        "point_3d_12 = (point_4d_12 / point_4d_12[3])[:3].ravel()\n",
        "\n",
        "point_4d_13 = cv2.triangulatePoints(proj_matrices[0], proj_matrices[2], object_pixels[0], object_pixels[2])\n",
        "point_3d_13 = (point_4d_13 / point_4d_13[3])[:3].ravel()\n",
        "\n",
        "point_4d_23 = cv2.triangulatePoints(proj_matrices[1], proj_matrices[2], object_pixels[1], object_pixels[2])\n",
        "point_3d_23 = (point_4d_23 / point_4d_23[3])[:3].ravel()\n",
        "\n",
        "# Average the results (basic multi-view fusion)\n",
        "point_3d_final = (point_3d_12 + point_3d_13 + point_3d_23) / 3"
      ],
      "metadata": {
        "id": "ALsIfK_txAKY"
      },
      "execution_count": null,
      "outputs": []
    },
    {
      "cell_type": "code",
      "source": [
        "# === Final Output ===\n",
        "print(\"\\n=== Final Camera Positions (World Coordinates) ===\")\n",
        "for idx, pos in enumerate(camera_positions):\n",
        "    print(f\"Camera {idx+1} Position: {pos}\")\n"
      ],
      "metadata": {
        "id": "_Qo2g59SxD4u"
      },
      "execution_count": null,
      "outputs": []
    },
    {
      "cell_type": "code",
      "source": [
        "print(\"\\nEstimated 3D Position of Object:\", point_3d_final)"
      ],
      "metadata": {
        "id": "mFD20r9hxHrn"
      },
      "execution_count": null,
      "outputs": []
    },
    {
      "cell_type": "markdown",
      "source": [
        "Case Study 1 - Black Marker\n"
      ],
      "metadata": {
        "id": "-RGPGk3Ezep3"
      }
    },
    {
      "cell_type": "code",
      "source": [
        "# Local 3D coordinates of GCPs (in cm)\n",
        "gcp_3d = np.array([\n",
        "   [20,30,1],\n",
        "   [37,21,5],\n",
        "   [55.7,35.3,0],\n",
        "   [75,10,1],\n",
        "   [55.7,48,12],\n",
        "   [57.7,37.9,0]\n",
        "], dtype=np.float32)\n",
        "\n",
        "# 2D image coordinates of GCPs for 3 images (in pixels)\n",
        "gcp_2d_imgs = [\n",
        "    np.array([[172,842],[540,880], [797, 596], [1312, 862], [735,335],[812,559],], dtype=np.float32),\n",
        "    np.array([[225,705],[472,820], [812,648], [1190,1045],[805,400],[838,618]], dtype=np.float32),\n",
        "    np.array([[185,610],[360,752], [760, 612], [ 1055, 1090],[762,350], [797,585]], dtype=np.float32)\n",
        "]"
      ],
      "metadata": {
        "id": "9WWm7Tv8dKiE"
      },
      "execution_count": null,
      "outputs": []
    },
    {
      "cell_type": "code",
      "source": [
        "object_pixels = [\n",
        "    np.array([[1300], [308]], dtype=np.float64),  # Image 1\n",
        "    np.array([[1367], [498]], dtype=np.float64),  # Image 2\n",
        "    np.array([[1360], [500]], dtype=np.float64)  # Image 3\n",
        "]"
      ],
      "metadata": {
        "id": "r8DyNLITdKiF"
      },
      "execution_count": null,
      "outputs": []
    },
    {
      "cell_type": "code",
      "source": [
        "for i, image_path in enumerate(image_paths):\n",
        "    # Load and convert image\n",
        "    img = cv2.imread(image_path)\n",
        "    img_rgb = cv2.cvtColor(img, cv2.COLOR_BGR2RGB)\n",
        "\n",
        "    # Visualize GCPs (green cross marks)\n",
        "    for gcp in gcp_2d_imgs[i]:\n",
        "        gcp_int = tuple(map(int, gcp))\n",
        "        cv2.drawMarker(img_rgb, gcp_int, color=(0, 0, 255), markerType=cv2.MARKER_CROSS, markerSize=10, thickness=5)\n",
        "\n",
        "    # Visualize object pixels (red circles)\n",
        "    x = int(object_pixels[i][0][0])\n",
        "    y = int(object_pixels[i][1][0])\n",
        "    cv2.circle(img_rgb, (x, y), radius=5, color=(255, 0, 0), thickness=5)  # Red\n",
        "\n",
        "    # Display image\n",
        "    plt.imshow(img_rgb)\n",
        "    plt.title(f'Image {i + 1} with GCPs (Blue Crosses) and Object (Red Circle)')\n",
        "    plt.show()"
      ],
      "metadata": {
        "id": "ihxYuznZdKiF"
      },
      "execution_count": null,
      "outputs": []
    },
    {
      "cell_type": "code",
      "source": [
        "def reprojection_error(params, object_points, image_points, camera_matrix, dist_coeffs):\n",
        "    rvec = params[:3].reshape(3, 1)\n",
        "    tvec = params[3:].reshape(3, 1)\n",
        "    projected_points, _ = cv2.projectPoints(object_points, rvec, tvec, camera_matrix, dist_coeffs)\n",
        "    error = (projected_points.squeeze() - image_points).ravel()\n",
        "    return error\n"
      ],
      "metadata": {
        "id": "9Tfuay4EdKiG"
      },
      "execution_count": null,
      "outputs": []
    },
    {
      "cell_type": "code",
      "source": [
        "# === Optimization and Output ===\n",
        "optimized_params = []\n",
        "camera_positions = []\n",
        "\n",
        "for idx, gcp_2d in enumerate(gcp_2d_imgs):\n",
        "    # Initial solvePnP estimation\n",
        "    _, rvec_init, tvec_init = cv2.solvePnP(gcp_3d, gcp_2d, camera_matrix, dist_coeffs)\n",
        "    initial_params = np.hstack((rvec_init.ravel(), tvec_init.ravel()))\n",
        "\n",
        "    print(f\"\\n--- Optimizing Image {idx+1} EOPs ---\")\n",
        "\n",
        "    # Perform least squares optimization\n",
        "    result = least_squares(\n",
        "        reprojection_error,\n",
        "        initial_params,\n",
        "        verbose=2,\n",
        "        args=(gcp_3d, gcp_2d, camera_matrix, dist_coeffs),\n",
        "        max_nfev=1000,  # Set max iterations here\n",
        "        xtol=1e-30\n",
        "    )\n",
        "\n",
        "    rvec_opt = result.x[:3].reshape(3, 1)\n",
        "    tvec_opt = result.x[3:].reshape(3, 1)\n",
        "    optimized_params.append((rvec_opt, tvec_opt))\n",
        "\n",
        "    R, _ = cv2.Rodrigues(rvec_opt)\n",
        "    camera_position = -R.T @ tvec_opt\n",
        "    camera_positions.append(camera_position.ravel())\n"
      ],
      "metadata": {
        "id": "rhbr1iTNdKiG"
      },
      "execution_count": null,
      "outputs": []
    },
    {
      "source": [
        "rotation_matrices = []\n",
        "for rvec, tvec in optimized_params:\n",
        "    R, _ = cv2.Rodrigues(rvec)  # Convert rotation vector to matrix\n",
        "    rotation_matrices.append(R)"
      ],
      "cell_type": "code",
      "metadata": {
        "id": "kiKxmYlDsS8J"
      },
      "execution_count": null,
      "outputs": []
    },
    {
      "source": [
        "import math\n",
        "\n",
        "euler_angles = []  # To store (omega, phi, kappa) for each camera\n",
        "\n",
        "for R in rotation_matrices:\n",
        "    phi = math.asin(R[2, 0])  # Omega (rotation around X-axis)\n",
        "    kappa = math.atan2(R[2, 1] / math.cos(phi), R[2, 2] / math.cos(phi))  # Kappa (rotation around Z-axis)\n",
        "    omega = math.atan2(R[1, 0] / math.cos(phi), R[0, 0] / math.cos(phi))  # Phi (rotation around Y-axis)\n",
        "\n",
        "    euler_angles.append((math.degrees(phi), math.degrees(kappa), math.degrees(omega)))  # In degrees\n",
        "\n",
        "# Print in the desired format\n",
        "for i, angles in enumerate(euler_angles):\n",
        "    print(f\"(ω, φ, κ) = [{angles[0]:.2f}, {angles[1]:.2f}, {angles[2]:.2f}]\")"
      ],
      "cell_type": "code",
      "metadata": {
        "id": "kTfl4UJBuIge"
      },
      "execution_count": null,
      "outputs": []
    },
    {
      "cell_type": "code",
      "source": [
        "proj_matrices = []\n",
        "for rvec, tvec in optimized_params:\n",
        "    R, _ = cv2.Rodrigues(rvec)\n",
        "    Rt = np.hstack((R, tvec))\n",
        "    P = camera_matrix @ Rt\n",
        "    proj_matrices.append(P)\n",
        "# reprojection error\n",
        "for idx, (rvec, tvec) in enumerate(optimized_params):\n",
        "    projected_points, _ = cv2.projectPoints(gcp_3d, rvec, tvec, camera_matrix, dist_coeffs)\n",
        "\n",
        "    # Calculate reprojection error for each GCP\n",
        "    reprojection_errors = np.linalg.norm(projected_points.squeeze() - gcp_2d_imgs[idx], axis=1)\n",
        "\n",
        "    # Print the errors\n",
        "    print(f\"\\nReprojection Errors for Image {idx + 1}:\")\n",
        "    for i, error in enumerate(reprojection_errors):\n",
        "        print(f\"  GCP {i + 1}: {error:.2f} pixels\")\n",
        "\n",
        "    # Calculate and print the average reprojection error for the image\n",
        "    avg_error = np.mean(reprojection_errors)\n",
        "    print(f\"  Average Reprojection Error: {avg_error:.2f} pixels\")"
      ],
      "metadata": {
        "id": "I1rgmRHZdKiI"
      },
      "execution_count": null,
      "outputs": []
    },
    {
      "cell_type": "code",
      "source": [
        "# Triangulate between all pairs of images\n",
        "point_4d_12 = cv2.triangulatePoints(proj_matrices[0], proj_matrices[1], object_pixels[0], object_pixels[1])\n",
        "point_3d_12 = (point_4d_12 / point_4d_12[3])[:3].ravel()\n",
        "\n",
        "point_4d_13 = cv2.triangulatePoints(proj_matrices[0], proj_matrices[2], object_pixels[0], object_pixels[2])\n",
        "point_3d_13 = (point_4d_13 / point_4d_13[3])[:3].ravel()\n",
        "\n",
        "point_4d_23 = cv2.triangulatePoints(proj_matrices[1], proj_matrices[2], object_pixels[1], object_pixels[2])\n",
        "point_3d_23 = (point_4d_23 / point_4d_23[3])[:3].ravel()\n",
        "\n",
        "# Average the results (basic multi-view fusion)\n",
        "point_3d_final = (point_3d_12 + point_3d_13 + point_3d_23) / 3"
      ],
      "metadata": {
        "id": "Oo01O43zdKiI"
      },
      "execution_count": null,
      "outputs": []
    },
    {
      "cell_type": "code",
      "source": [
        "# === Final Output ===\n",
        "print(\"\\n=== Final Camera Positions (World Coordinates) ===\")\n",
        "for idx, pos in enumerate(camera_positions):\n",
        "    print(f\"Camera {idx+1} Position: {pos}\")\n"
      ],
      "metadata": {
        "id": "boVrWTQGdKiI"
      },
      "execution_count": null,
      "outputs": []
    },
    {
      "cell_type": "code",
      "source": [
        "print(\"\\nEstimated 3D Position of Black Marker:\", point_3d_final)"
      ],
      "metadata": {
        "id": "JBS5SAO1dKiJ"
      },
      "execution_count": null,
      "outputs": []
    }
  ]
}